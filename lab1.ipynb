{
  "nbformat": 4,
  "nbformat_minor": 0,
  "metadata": {
    "colab": {
      "name": "lab1.ipynb",
      "provenance": [],
      "authorship_tag": "ABX9TyOqX0N4DiadT5vOAprDwJOW",
      "include_colab_link": true
    },
    "kernelspec": {
      "name": "python3",
      "display_name": "Python 3"
    },
    "language_info": {
      "name": "python"
    }
  },
  "cells": [
    {
      "cell_type": "markdown",
      "metadata": {
        "id": "view-in-github",
        "colab_type": "text"
      },
      "source": [
        "<a href=\"https://colab.research.google.com/github/vedant142/AICS/blob/main/lab1.ipynb\" target=\"_parent\"><img src=\"https://colab.research.google.com/assets/colab-badge.svg\" alt=\"Open In Colab\"/></a>"
      ]
    },
    {
      "cell_type": "code",
      "execution_count": 4,
      "metadata": {
        "colab": {
          "base_uri": "https://localhost:8080/"
        },
        "id": "-UqZrfwvW_qi",
        "outputId": "9569d1cd-4831-4d58-e19f-8d330403c8f5"
      },
      "outputs": [
        {
          "output_type": "stream",
          "name": "stdout",
          "text": [
            "{'Name': 'Vedant Khuje', 'Age': '20'}\n"
          ]
        }
      ],
      "source": [
        "dict = {'Name' : 'Vedant Khuje' , 'Age': '20'}\n",
        "print(dict)\n",
        "      "
      ]
    },
    {
      "cell_type": "code",
      "source": [
        "list = ['V','E','D','A','N','T']\n",
        "print(list[2:3])\n",
        "print(list[1:4])\n",
        "print(list[:])"
      ],
      "metadata": {
        "colab": {
          "base_uri": "https://localhost:8080/"
        },
        "id": "MpTHvXNDYMU4",
        "outputId": "d5d8dd65-336c-4f6e-a54a-a2b9f56608f4"
      },
      "execution_count": 10,
      "outputs": [
        {
          "output_type": "stream",
          "name": "stdout",
          "text": [
            "['D']\n",
            "['E', 'D', 'A']\n",
            "['V', 'E', 'D', 'A', 'N', 'T']\n"
          ]
        }
      ]
    }
  ]
}